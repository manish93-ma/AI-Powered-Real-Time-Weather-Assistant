{
 "cells": [
  {
   "cell_type": "code",
   "execution_count": 54,
   "id": "f7c447d4",
   "metadata": {},
   "outputs": [],
   "source": [
    "from langchain_google_genai import ChatGoogleGenerativeAI\n",
    "from langchain_core.tools import tool\n",
    "import requests"
   ]
  },
  {
   "cell_type": "code",
   "execution_count": 55,
   "id": "f1ec612a",
   "metadata": {},
   "outputs": [],
   "source": [
    "from langchain_community.tools import DuckDuckGoSearchRun\n",
    "search_tool = DuckDuckGoSearchRun()"
   ]
  },
  {
   "cell_type": "code",
   "execution_count": 56,
   "id": "cbc5d10d",
   "metadata": {},
   "outputs": [],
   "source": [
    "@tool\n",
    "def get_weather_data(city: str) -> str:\n",
    "    \"\"\"This function fetches the current weather data for a given city\"\"\"\n",
    "\n",
    "   \n",
    "    url = \"https://weather-api167.p.rapidapi.com/api/weather/forecast\"\n",
    "\n",
    "    querystring = {\"city\": city}\n",
    "\n",
    "   \n",
    "    headers = {\n",
    "        \"X-RapidAPI-Key\": \"f56158150amsh74ff23e22239aabp176456jsn7fba8124d353\",  \n",
    "        \"X-RapidAPI-Host\": \"weather-api167.p.rapidapi.com\"\n",
    "    }\n",
    "\n",
    "    \n",
    "    response = requests.get(url, headers=headers, params=querystring)\n",
    "\n",
    " \n",
    "    if response.status_code == 200:\n",
    "        return response.text  \n",
    "    else:\n",
    "        return f\"Error: {response.status_code} - {response.text}\"\n"
   ]
  },
  {
   "cell_type": "code",
   "execution_count": null,
   "id": "98e3c612",
   "metadata": {},
   "outputs": [],
   "source": [
    "import os\n",
    "from dotenv import load_dotenv\n",
    "load_dotenv()\n",
    "api_key =os.getenv(\"GAMINI_API_KEY\")\n",
    "llm = ChatGoogleGenerativeAI(model=\"gemini-1.5-flash\",google_api_key = api_key)"
   ]
  },
  {
   "cell_type": "code",
   "execution_count": 67,
   "id": "6d5c896e",
   "metadata": {},
   "outputs": [],
   "source": [
    "from langchain.agents import create_react_agent,AgentExecutor\n",
    "from langchain import hub"
   ]
  },
  {
   "cell_type": "code",
   "execution_count": 68,
   "id": "f631af4f",
   "metadata": {},
   "outputs": [
    {
     "name": "stderr",
     "output_type": "stream",
     "text": [
      "c:\\Users\\HP\\langchain model\\langchain model\\venv\\Lib\\site-packages\\langsmith\\client.py:272: LangSmithMissingAPIKeyWarning: API key must be provided when using hosted LangSmith API\n",
      "  warnings.warn(\n"
     ]
    }
   ],
   "source": [
    "# pull the reAct prompt from langchain\n",
    "prompt = hub.pull(\"hwchase17/react\") #pull the standard reAct agent prompt"
   ]
  },
  {
   "cell_type": "code",
   "execution_count": 69,
   "id": "bd192b36",
   "metadata": {},
   "outputs": [],
   "source": [
    "from langchain.agents import create_react_agent, AgentExecutor\n",
    "\n",
    "# Create agent with tools\n",
    "agent = create_react_agent(\n",
    "    llm=llm,\n",
    "    tools=[search_tool, get_weather_data],\n",
    "    prompt=prompt\n",
    ")"
   ]
  },
  {
   "cell_type": "code",
   "execution_count": 73,
   "id": "3bb4a4c1",
   "metadata": {},
   "outputs": [],
   "source": [
    "agent_executor = AgentExecutor(\n",
    "    agent=agent,\n",
    "    tools=[search_tool,get_weather_data],\n",
    "    verbose=True,\n",
    "    \n",
    ")"
   ]
  },
  {
   "cell_type": "code",
   "execution_count": 74,
   "id": "f98c8026",
   "metadata": {},
   "outputs": [
    {
     "name": "stdout",
     "output_type": "stream",
     "text": [
      "\n",
      "\n",
      "\u001b[1m> Entering new AgentExecutor chain...\u001b[0m\n",
      "\u001b[32;1m\u001b[1;3mThought: I need to first find the capital of Madhya Pradesh.  Then I can use that information to get the current weather.\n",
      "Action: duckduckgo_search\n",
      "Action Input: capital of madhya pradesh\u001b[0m"
     ]
    },
    {
     "name": "stderr",
     "output_type": "stream",
     "text": [
      "c:\\Users\\HP\\langchain model\\langchain model\\venv\\Lib\\site-packages\\langchain_community\\utilities\\duckduckgo_search.py:63: RuntimeWarning: This package (`duckduckgo_search`) has been renamed to `ddgs`! Use `pip install ddgs` instead.\n",
      "  with DDGS() as ddgs:\n"
     ]
    },
    {
     "name": "stdout",
     "output_type": "stream",
     "text": [
      "\u001b[36;1m\u001b[1;3mMay 19, 2014 · Hi, What's the correct abbreviation for kilowatt? I have 18 KW in a text I'm proofreading. Is it A. 18 KW B. 18 kW C. 18 … Jun 27, 2019 · Here's what is human capital. There's nothing more positive in economics than investing in people. But how do you measure … Mar 24, 2025 · The long-envisioned integration of traditional financial systems with blockchain technology is now becoming a reality with on … Mar 14, 2013 · Is it ever correct to write \"Government\" without \"the\" and with a capital G? Let's say both the writer and the reader know … Jun 16, 2025 · Natural capital is vital infrastructure. Investing in nature boosts resilience, stability and prosperity amid …\u001b[0m\u001b[32;1m\u001b[1;3mThought: That DuckDuckGo search did not return the capital of Madhya Pradesh. I need to try a different search.\n",
      "Action: duckduckgo_search\n",
      "Action Input: capital of madhya pradesh\u001b[0m"
     ]
    },
    {
     "name": "stderr",
     "output_type": "stream",
     "text": [
      "c:\\Users\\HP\\langchain model\\langchain model\\venv\\Lib\\site-packages\\langchain_community\\utilities\\duckduckgo_search.py:63: RuntimeWarning: This package (`duckduckgo_search`) has been renamed to `ddgs`! Use `pip install ddgs` instead.\n",
      "  with DDGS() as ddgs:\n"
     ]
    },
    {
     "name": "stdout",
     "output_type": "stream",
     "text": [
      "\u001b[36;1m\u001b[1;3mNo good DuckDuckGo Search Result was found\u001b[0m\u001b[32;1m\u001b[1;3mThought: I need to try a different search engine or a different search term.  Let's try a more direct search.\n",
      "Action: duckduckgo_search\n",
      "Action Input: Madhya Pradesh capital city\u001b[0m"
     ]
    },
    {
     "name": "stderr",
     "output_type": "stream",
     "text": [
      "c:\\Users\\HP\\langchain model\\langchain model\\venv\\Lib\\site-packages\\langchain_community\\utilities\\duckduckgo_search.py:63: RuntimeWarning: This package (`duckduckgo_search`) has been renamed to `ddgs`! Use `pip install ddgs` instead.\n",
      "  with DDGS() as ddgs:\n"
     ]
    },
    {
     "name": "stdout",
     "output_type": "stream",
     "text": [
      "\u001b[36;1m\u001b[1;3mMadhya Pradesh (/ ˌmɑːdjə prəˈdɛʃ /; [10] Hindi: [ˈmədʱjə pɾəˈðeːʃ] ⓘ; lit. 'Central Province') is a state in central India. Its capital is Bhopal and the largest city is Indore. Other major cities includes Jabalpur, Gwalior, Ujjain and Sagar. Madhya Pradesh is the second largest Indian state by area and the fifth largest state by population with over 72 million residents. It borders the states of … 5 days ago · Madhya Pradesh, state of India. As its name implies— madhya means “central” and pradesh means “region” or “state”—it is situated in the heart of the country. The state has no coastline and no international frontier. MP News in Hindi (मध्य प्रदेश समाचार) - Get Latest MP Breaking News (मध्य प्रदेश न्यूज़), Madhya Pradesh Politics Business, Election, Crime and Education News at amarujala.com Madhya Pradesh is the second largest Indian Sate in size with an area of 3,08,000 sq.km. Geographically it occupies a pivotal position in the country. King Ashoka first among all, ruled over Ujjain. Madhya Pradesh Map - The Madhya Pradesh state map covering its districts, cities, roads, railways, areas, airports, Hotels information, places of interest and landmarks etc.\u001b[0m\u001b[32;1m\u001b[1;3mThought: I found the capital of Madhya Pradesh is Bhopal. Now I need to get the current weather there.\n",
      "Action: get_weather_data\n",
      "Action Input: Bhopal\u001b[0m\u001b[33;1m\u001b[1;3mError: 403 - {\"message\":\"You are not subscribed to this API.\"}\u001b[0m\u001b[32;1m\u001b[1;3mThought: I need to find an alternative way to get the weather in Bhopal.  I cannot use the provided `get_weather_data` function.  I'll try a web search.\n",
      "Action: duckduckgo_search\n",
      "Action Input: weather in Bhopal\u001b[0m"
     ]
    },
    {
     "name": "stderr",
     "output_type": "stream",
     "text": [
      "c:\\Users\\HP\\langchain model\\langchain model\\venv\\Lib\\site-packages\\langchain_community\\utilities\\duckduckgo_search.py:63: RuntimeWarning: This package (`duckduckgo_search`) has been renamed to `ddgs`! Use `pip install ddgs` instead.\n",
      "  with DDGS() as ddgs:\n"
     ]
    },
    {
     "name": "stdout",
     "output_type": "stream",
     "text": [
      "\u001b[36;1m\u001b[1;3mBhopal, Madhya Pradesh, India Weather Forecast, with current conditions, wind, air quality, and what to expect for the next 3 days. Aug 16, 2025 · 2 Week Extended Forecast in Bhopal, Madhya Pradesh, India ... Hour-by-hour weather for Bhopal next 7 days City Forecast Current Weather Bhopal 24 o C 94% Calm 0 km/h Observation Time: 20 Aug, 2.30 IST Be prepared with the most accurate 10-day forecast for Bhopal, Madhya Pradesh with highs, lows, chance of precipitation from The Weather Channel and Weather.com 14-day weather forecast for Bhopal.\u001b[0m\u001b[32;1m\u001b[1;3mThought: I now know the final answer.  The capital of Madhya Pradesh is Bhopal, and the current weather there is approximately 24°C with 94% humidity and calm conditions.  The observation was from August 20th, 2.30 IST.\n",
      "Final Answer: The capital of Madhya Pradesh is Bhopal.  As of August 20th, 2:30 IST, the weather in Bhopal was approximately 24°C with 94% humidity and calm winds.\n",
      "\u001b[0m\n",
      "\n",
      "\u001b[1m> Finished chain.\u001b[0m\n",
      "{'input': \"find the capital of madahya pradesh,then find it's current weather condition\", 'output': 'The capital of Madhya Pradesh is Bhopal.  As of August 20th, 2:30 IST, the weather in Bhopal was approximately 24°C with 94% humidity and calm winds.'}\n"
     ]
    }
   ],
   "source": [
    "response = agent_executor.invoke({\"input\":\"find the capital of madahya pradesh,then find it's current weather condition\"})\n",
    "print(response)"
   ]
  },
  {
   "cell_type": "code",
   "execution_count": 75,
   "id": "3ca28d84",
   "metadata": {},
   "outputs": [
    {
     "data": {
      "text/plain": [
       "'The capital of Madhya Pradesh is Bhopal.  As of August 20th, 2:30 IST, the weather in Bhopal was approximately 24°C with 94% humidity and calm winds.'"
      ]
     },
     "execution_count": 75,
     "metadata": {},
     "output_type": "execute_result"
    }
   ],
   "source": [
    "response['output']"
   ]
  },
  {
   "cell_type": "code",
   "execution_count": null,
   "id": "2ef1898a",
   "metadata": {},
   "outputs": [],
   "source": []
  },
  {
   "cell_type": "code",
   "execution_count": null,
   "id": "bf91d607",
   "metadata": {},
   "outputs": [],
   "source": []
  }
 ],
 "metadata": {
  "kernelspec": {
   "display_name": "venv",
   "language": "python",
   "name": "python3"
  },
  "language_info": {
   "codemirror_mode": {
    "name": "ipython",
    "version": 3
   },
   "file_extension": ".py",
   "mimetype": "text/x-python",
   "name": "python",
   "nbconvert_exporter": "python",
   "pygments_lexer": "ipython3",
   "version": "3.12.6"
  }
 },
 "nbformat": 4,
 "nbformat_minor": 5
}
